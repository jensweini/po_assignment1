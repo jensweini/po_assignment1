{
 "cells": [
  {
   "cell_type": "code",
   "execution_count": 5,
   "metadata": {},
   "outputs": [],
   "source": [
    "import pandas_datareader.data as web\n",
    "import pandas as pd"
   ]
  },
  {
   "cell_type": "code",
   "execution_count": 6,
   "metadata": {},
   "outputs": [],
   "source": [
    "daily_prices = web.DataReader('AAPL', 'iex', '2018-1-1', '2019-1-1')"
   ]
  },
  {
   "cell_type": "code",
   "execution_count": 7,
   "metadata": {},
   "outputs": [
    {
     "data": {
      "text/html": [
       "<div>\n",
       "<style scoped>\n",
       "    .dataframe tbody tr th:only-of-type {\n",
       "        vertical-align: middle;\n",
       "    }\n",
       "\n",
       "    .dataframe tbody tr th {\n",
       "        vertical-align: top;\n",
       "    }\n",
       "\n",
       "    .dataframe thead th {\n",
       "        text-align: right;\n",
       "    }\n",
       "</style>\n",
       "<table border=\"1\" class=\"dataframe\">\n",
       "  <thead>\n",
       "    <tr style=\"text-align: right;\">\n",
       "      <th></th>\n",
       "      <th>open</th>\n",
       "      <th>high</th>\n",
       "      <th>low</th>\n",
       "      <th>close</th>\n",
       "      <th>volume</th>\n",
       "    </tr>\n",
       "    <tr>\n",
       "      <th>date</th>\n",
       "      <th></th>\n",
       "      <th></th>\n",
       "      <th></th>\n",
       "      <th></th>\n",
       "      <th></th>\n",
       "    </tr>\n",
       "  </thead>\n",
       "  <tbody>\n",
       "    <tr>\n",
       "      <th>2018-01-02</th>\n",
       "      <td>166.9271</td>\n",
       "      <td>169.0264</td>\n",
       "      <td>166.0442</td>\n",
       "      <td>168.9872</td>\n",
       "      <td>25555934</td>\n",
       "    </tr>\n",
       "    <tr>\n",
       "      <th>2018-01-03</th>\n",
       "      <td>169.2521</td>\n",
       "      <td>171.2337</td>\n",
       "      <td>168.6929</td>\n",
       "      <td>168.9578</td>\n",
       "      <td>29517899</td>\n",
       "    </tr>\n",
       "    <tr>\n",
       "      <th>2018-01-04</th>\n",
       "      <td>169.2619</td>\n",
       "      <td>170.1742</td>\n",
       "      <td>168.8106</td>\n",
       "      <td>169.7426</td>\n",
       "      <td>22434597</td>\n",
       "    </tr>\n",
       "    <tr>\n",
       "      <th>2018-01-05</th>\n",
       "      <td>170.1448</td>\n",
       "      <td>172.0381</td>\n",
       "      <td>169.7622</td>\n",
       "      <td>171.6751</td>\n",
       "      <td>23660018</td>\n",
       "    </tr>\n",
       "    <tr>\n",
       "      <th>2018-01-08</th>\n",
       "      <td>171.0375</td>\n",
       "      <td>172.2736</td>\n",
       "      <td>170.6255</td>\n",
       "      <td>171.0375</td>\n",
       "      <td>20567766</td>\n",
       "    </tr>\n",
       "  </tbody>\n",
       "</table>\n",
       "</div>"
      ],
      "text/plain": [
       "                open      high       low     close    volume\n",
       "date                                                        \n",
       "2018-01-02  166.9271  169.0264  166.0442  168.9872  25555934\n",
       "2018-01-03  169.2521  171.2337  168.6929  168.9578  29517899\n",
       "2018-01-04  169.2619  170.1742  168.8106  169.7426  22434597\n",
       "2018-01-05  170.1448  172.0381  169.7622  171.6751  23660018\n",
       "2018-01-08  171.0375  172.2736  170.6255  171.0375  20567766"
      ]
     },
     "execution_count": 7,
     "metadata": {},
     "output_type": "execute_result"
    }
   ],
   "source": [
    "daily_prices.head()"
   ]
  },
  {
   "cell_type": "code",
   "execution_count": 8,
   "metadata": {},
   "outputs": [],
   "source": [
    "#get weekly closing prices\n",
    "daily_prices.index = pd.to_datetime(daily_prices.index)"
   ]
  },
  {
   "cell_type": "code",
   "execution_count": 9,
   "metadata": {},
   "outputs": [
    {
     "data": {
      "text/plain": [
       "date\n",
       "2018-01-02    168.9872\n",
       "2018-01-03    168.9578\n",
       "2018-01-04    169.7426\n",
       "2018-01-05    171.6751\n",
       "2018-01-08    171.0375\n",
       "Name: close, dtype: float64"
      ]
     },
     "execution_count": 9,
     "metadata": {},
     "output_type": "execute_result"
    }
   ],
   "source": [
    "daily_prices['close'].head()"
   ]
  },
  {
   "cell_type": "code",
   "execution_count": 10,
   "metadata": {},
   "outputs": [
    {
     "data": {
      "text/plain": [
       "date\n",
       "2018-01-05    171.6751\n",
       "2018-01-12    173.7254\n",
       "2018-01-19    175.0694\n",
       "2018-01-26    168.2514\n",
       "2018-02-02    157.4506\n",
       "Freq: W-FRI, Name: close, dtype: float64"
      ]
     },
     "execution_count": 10,
     "metadata": {},
     "output_type": "execute_result"
    }
   ],
   "source": [
    "#get weekly closing prices\n",
    "weekly_prices = daily_prices['close'].resample('W-FRI').last()\n",
    "weekly_prices.head()"
   ]
  },
  {
   "cell_type": "code",
   "execution_count": 11,
   "metadata": {},
   "outputs": [
    {
     "data": {
      "text/plain": [
       "date\n",
       "2018-01-31    164.2490\n",
       "2018-02-28    175.4484\n",
       "2018-03-31    165.2635\n",
       "2018-04-30    162.7812\n",
       "2018-05-31    184.7768\n",
       "Freq: M, Name: close, dtype: float64"
      ]
     },
     "execution_count": 11,
     "metadata": {},
     "output_type": "execute_result"
    }
   ],
   "source": [
    "#get montly closing prices\n",
    "monthly_prices = daily_prices.close.resample('M').last()\n",
    "monthly_prices.head()"
   ]
  },
  {
   "cell_type": "code",
   "execution_count": 12,
   "metadata": {},
   "outputs": [
    {
     "data": {
      "text/plain": [
       "date\n",
       "2018-01-05         NaN\n",
       "2018-01-12    0.011943\n",
       "2018-01-19    0.007736\n",
       "2018-01-26   -0.038945\n",
       "2018-02-02   -0.064194\n",
       "Freq: W-FRI, Name: close, dtype: float64"
      ]
     },
     "execution_count": 12,
     "metadata": {},
     "output_type": "execute_result"
    }
   ],
   "source": [
    "#compute weekly returns\n",
    "weekly_returns = weekly_prices / weekly_prices.shift(1)-1\n",
    "weekly_returns.head()"
   ]
  },
  {
   "cell_type": "code",
   "execution_count": 13,
   "metadata": {},
   "outputs": [],
   "source": [
    "weekly_returns = weekly_returns.dropna()"
   ]
  },
  {
   "cell_type": "code",
   "execution_count": 14,
   "metadata": {},
   "outputs": [
    {
     "data": {
      "text/plain": [
       "52"
      ]
     },
     "execution_count": 14,
     "metadata": {},
     "output_type": "execute_result"
    }
   ],
   "source": [
    "weekly_returns.size"
   ]
  },
  {
   "cell_type": "code",
   "execution_count": 15,
   "metadata": {},
   "outputs": [],
   "source": [
    "m = 100"
   ]
  },
  {
   "cell_type": "code",
   "execution_count": 18,
   "metadata": {},
   "outputs": [],
   "source": [
    "bootstrap_returns = weekly_returns.sample(m, replace=True, random_state=0)"
   ]
  },
  {
   "cell_type": "code",
   "execution_count": 19,
   "metadata": {},
   "outputs": [
    {
     "data": {
      "text/plain": [
       "100"
      ]
     },
     "execution_count": 19,
     "metadata": {},
     "output_type": "execute_result"
    }
   ],
   "source": [
    "bootstrap_returns.size"
   ]
  },
  {
   "cell_type": "code",
   "execution_count": null,
   "metadata": {},
   "outputs": [],
   "source": []
  }
 ],
 "metadata": {
  "kernelspec": {
   "display_name": "Python 3",
   "language": "python",
   "name": "python3"
  },
  "language_info": {
   "codemirror_mode": {
    "name": "ipython",
    "version": 3
   },
   "file_extension": ".py",
   "mimetype": "text/x-python",
   "name": "python",
   "nbconvert_exporter": "python",
   "pygments_lexer": "ipython3",
   "version": "3.6.5"
  }
 },
 "nbformat": 4,
 "nbformat_minor": 2
}
